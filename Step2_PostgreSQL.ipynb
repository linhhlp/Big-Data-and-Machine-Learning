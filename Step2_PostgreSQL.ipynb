{
 "cells": [
  {
   "attachments": {},
   "cell_type": "markdown",
   "id": "c902f566",
   "metadata": {},
   "source": [
    "# PostgreSQL\n",
    "\n",
    "For small sizes of datasets, for example, products, product categories, users, and order transactions, we can use SQL with high consistency of data (ACID for transactions). Cassandra does not support ACID but supports eventual consistency.\n",
    "\n",
    "In case when a user modifies an item in the order, we must update the order in all of the replication servers. So that the seller can have update-to-date information on the order and pack exactly the items that the user wants."
   ]
  },
  {
   "attachments": {},
   "cell_type": "markdown",
   "id": "678f60e9",
   "metadata": {},
   "source": [
    "## Setup "
   ]
  },
  {
   "attachments": {},
   "cell_type": "markdown",
   "id": "ffb0f8d0",
   "metadata": {},
   "source": [
    "### PostgreSQL - Single Node\n",
    "\n",
    "First, pull the official image from the Docker Hub:\n",
    "\n",
    "```bash\n",
    "$ docker pull postgres\n",
    "```\n",
    "\n",
    "To run a single node, let's create a container from the downloaded image:\n",
    "\n",
    "```bash\n",
    "$ docker run --name purchase_db \\\n",
    "-v E:/shared_data/postgres:/var/lib/postgresql/data \\\n",
    "-e POSTGRES_USER=postgres \\\n",
    "-e POSTGRES_PASSWORD=mysecretpassword  \\\n",
    "-p 5432:5432 -d postgres\n",
    "```\n",
    "\n",
    "To open `qsql`\n",
    "\n",
    "```bash\n",
    "docker exec -it purchase_db bash\n",
    "root@d59f357ea8b7:/# psql -U postgres\n",
    "```\n"
   ]
  },
  {
   "attachments": {},
   "cell_type": "markdown",
   "id": "87198a3f",
   "metadata": {},
   "source": [
    "### PostgreSQL Cluster\n",
    "\n",
    "The most convenient way to run a cluster is to run the image provided by VMware.\n",
    "\n",
    "1. Download the image\n",
    "```bash\n",
    "$ docker pull bitnami/postgresql\n",
    "Using default tag: latest\n",
    "latest: Pulling from bitnami/postgresql\n",
    "0de4c22220bb: Pull complete\n",
    "Digest: sha256:100f658b4e69b7fb1a87f0379f52bc6aec84813d91d8a4e953774c5edd4658df\n",
    "Status: Downloaded newer image for bitnami/postgresql:latest\n",
    "docker.io/bitnami/postgresql:latest\n",
    "```"
   ]
  },
  {
   "attachments": {},
   "cell_type": "markdown",
   "id": "cff7dc27",
   "metadata": {},
   "source": [
    "\n",
    "2. Use `docker-compose.yml` to configure\n",
    "Download the template file for `docker-compose.yml` from\n",
    " https://raw.githubusercontent.com/bitnami/containers/main/bitnami/postgresql/docker-compose.yml\n",
    "\n",
    "Here are my configurations\n",
    "\n",
    "```\n",
    "version: '2'\n",
    "\n",
    "networks:\n",
    "  purchase_db-network:\n",
    "    driver: bridge\n",
    "    \n",
    "services:\n",
    "  purchase_db-master:\n",
    "    image: 'bitnami/postgresql:latest'\n",
    "    networks:\n",
    "      - purchase_db-network\n",
    "    ports:\n",
    "      - '5433:5432'\n",
    "    volumes:\n",
    "      - 'postgresql_master_data:/bitnami/postgresql'\n",
    "    environment:\n",
    "      - POSTGRESQL_DATABASE=ecommerce\n",
    "      - POSTGRESQL_REPLICATION_MODE=master\n",
    "      - POSTGRESQL_REPLICATION_USER=repl_user\n",
    "      - POSTGRESQL_REPLICATION_PASSWORD=repl_password\n",
    "      - POSTGRESQL_USERNAME=postgres\n",
    "      - POSTGRESQL_PASSWORD=mysecretpassword\n",
    "  purchase_db-slave:\n",
    "    image: 'bitnami/postgresql:latest'\n",
    "    networks:\n",
    "      - purchase_db-network\n",
    "    ports:\n",
    "      - '5432'\n",
    "    depends_on:\n",
    "      - purchase_db-master\n",
    "    environment:\n",
    "      - POSTGRESQL_REPLICATION_MODE=slave\n",
    "      - POSTGRESQL_REPLICATION_USER=repl_user\n",
    "      - POSTGRESQL_REPLICATION_PASSWORD=repl_password\n",
    "      - POSTGRESQL_MASTER_HOST=purchase_db-master\n",
    "      - POSTGRESQL_PASSWORD=mysecretpassword2\n",
    "      - POSTGRESQL_MASTER_PORT_NUMBER=5432\n",
    "\n",
    "volumes:\n",
    "  postgresql_master_data:\n",
    "```\n",
    "\n"
   ]
  },
  {
   "attachments": {},
   "cell_type": "markdown",
   "id": "17f540e1",
   "metadata": {},
   "source": [
    "3. Run the cluster\n",
    "\n",
    "We can scale the cluster easily with the `--scale` option. Here, we create 2 replicas and one master.\n",
    "\n",
    "```bash\n",
    "$ docker-compose up --detach --scale purchase_db-master=1 --scale purchase_db-slave=2\n",
    "```"
   ]
  },
  {
   "attachments": {},
   "cell_type": "markdown",
   "id": "c49cb000",
   "metadata": {},
   "source": [
    "## Working with Data"
   ]
  },
  {
   "cell_type": "code",
   "execution_count": 1,
   "id": "f11e1b83",
   "metadata": {
    "scrolled": true
   },
   "outputs": [],
   "source": [
    "import numpy as np\n",
    "from pathlib import Path\n",
    "import time\n",
    "\n",
    "from datatools import DBWrapper, LoadDataToPostgre"
   ]
  },
  {
   "cell_type": "code",
   "execution_count": 2,
   "id": "1eb8f9db",
   "metadata": {},
   "outputs": [],
   "source": [
    "# CSV info and configuration\n",
    "files = [\"2019-Dec.csv\"]  # [\"2019-Oct.csv\", \"2019-Nov.csv\", \"2019-Dec.csv\"]\n",
    "path = \"E:/coding/input/ecommerce-behavior-data-from-multi-category-store/\"\n",
    "DTYPE = {\n",
    "    \"event_time\": str,\n",
    "    \"event_type\": \"category\",\n",
    "    \"product_id\": str,\n",
    "    \"category_id\": str,\n",
    "    \"category_code\": str,\n",
    "    \"brand\": str,\n",
    "    \"price\": np.float16,\n",
    "    \"user_id\": str,\n",
    "    \"user_session\": str,\n",
    "}"
   ]
  },
  {
   "attachments": {},
   "cell_type": "markdown",
   "id": "1cf6bf82",
   "metadata": {},
   "source": [
    "## Postgre Database\n",
    "\n",
    "`psycopg2` creates a new transaction for the first time using `cursor`. All statements are in the same transaction until the `commit` or `rollback` is called.\n",
    "\n",
    "* `commit`: commits the transaction permanently. We have to confirm unless `autocommit` is set. Otherwise, the data might not be saved. \n",
    "* `rollback`: when something goes wrong, the transaction is rolled back.\n",
    "\n",
    "Without `commit` or `rollback`, the database might be bloated or locked. Therefore, do not leave the connection open for a long time."
   ]
  },
  {
   "attachments": {},
   "cell_type": "markdown",
   "id": "31b25abc",
   "metadata": {},
   "source": [
    "Make sure to create a database in PostgreSQL first. In this module, the database is `ecommerce`:\n",
    "\n",
    "In bash:\n",
    "```bash\n",
    "$ echo \"SELECT 'CREATE DATABASE ecommerce' WHERE NOT EXISTS (SELECT FROM pg_database WHERE datname = 'ecommerce')\\gexec\" | psql\n",
    "```\n",
    "\n",
    "Or SQL query\n",
    "```\n",
    "SELECT 'CREATE DATABASE ecommerce'\n",
    "WHERE NOT EXISTS (SELECT FROM pg_database WHERE datname = 'ecommerce')\\gexec\n",
    "```"
   ]
  },
  {
   "cell_type": "code",
   "execution_count": 3,
   "id": "d7fe5b00",
   "metadata": {},
   "outputs": [],
   "source": [
    "table_name = {\n",
    "    \"table_category\": \"table_category\",\n",
    "    \"table_product\": \"table_product\",\n",
    "    \"table_user\": \"table_user\",\n",
    "    \"table_order\": \"table_order\",\n",
    "}\n",
    "info = {\n",
    "    \"database\": \"ecommerce\",\n",
    "    \"user\": \"postgres\",\n",
    "    \"password\": \"mysecretpassword\",\n",
    "    \"host\": \"192.168.137.101\",\n",
    "    \"port\": \"5433\",\n",
    "    \"table_name\": table_name,\n",
    "}\n",
    "\n",
    "postgres_conn = DBWrapper(\"postgres\", info)"
   ]
  },
  {
   "cell_type": "code",
   "execution_count": 4,
   "id": "1aff7c5d",
   "metadata": {},
   "outputs": [
    {
     "name": "stderr",
     "output_type": "stream",
     "text": [
      "DEBUG:datatools: Start loading data from CSV file\n"
     ]
    },
    {
     "name": "stdout",
     "output_type": "stream",
     "text": [
      "E:\\coding\\input\\ecommerce-behavior-data-from-multi-category-store\\2019-Dec.csv\n"
     ]
    },
    {
     "name": "stderr",
     "output_type": "stream",
     "text": [
      "DEBUG:datatools:Start inserting data to Database\n",
      "DEBUG:datatools: Finished inserting into Database\n"
     ]
    },
    {
     "name": "stdout",
     "output_type": "stream",
     "text": [
      "Running time =  688.3083052635193\n"
     ]
    }
   ],
   "source": [
    "BATCH_SIZE = 10000\n",
    "CHUNK_SIZE = 10**6\n",
    "# if the program stop in the middle of the process, set SKIP_ROWS to continue\n",
    "SKIP_ROWS = None  # None\n",
    "loader = LoadDataToPostgre()\n",
    "\n",
    "for name in files:\n",
    "    file_path = Path(path + name)\n",
    "    print(file_path)\n",
    "    start = time.time()\n",
    "    loader.save_to_database(\n",
    "        postgres_conn,\n",
    "        file_path,\n",
    "        dtype=DTYPE,\n",
    "        BATCH_SIZE=BATCH_SIZE,\n",
    "        CHUNK_SIZE=CHUNK_SIZE,\n",
    "        SKIP_ROWS=SKIP_ROWS,\n",
    "    )\n",
    "    print(\"Running time = \", time.time() - start)"
   ]
  },
  {
   "attachments": {},
   "cell_type": "markdown",
   "id": "73333549",
   "metadata": {},
   "source": [
    "### Close the Connection"
   ]
  },
  {
   "cell_type": "code",
   "execution_count": 5,
   "id": "c32e7d35",
   "metadata": {},
   "outputs": [],
   "source": [
    "postgres_conn.disconnect()"
   ]
  },
  {
   "attachments": {},
   "cell_type": "markdown",
   "id": "7e183056",
   "metadata": {},
   "source": [
    "### Test"
   ]
  },
  {
   "cell_type": "code",
   "execution_count": 6,
   "id": "3f71599b",
   "metadata": {},
   "outputs": [],
   "source": [
    "postgres_conn = DBWrapper(\"postgres\", info)"
   ]
  },
  {
   "cell_type": "code",
   "execution_count": 7,
   "id": "d8a611e0",
   "metadata": {},
   "outputs": [
    {
     "data": {
      "text/plain": [
       "[(1162,)]"
      ]
     },
     "execution_count": 7,
     "metadata": {},
     "output_type": "execute_result"
    }
   ],
   "source": [
    "postgres_conn.execute(\"SELECT count(*) FROM table_category\")\n",
    "postgres_conn.fetchall()"
   ]
  },
  {
   "cell_type": "code",
   "execution_count": 8,
   "id": "14b9f809",
   "metadata": {},
   "outputs": [
    {
     "data": {
      "text/plain": [
       "[(970005,)]"
      ]
     },
     "execution_count": 8,
     "metadata": {},
     "output_type": "execute_result"
    }
   ],
   "source": [
    "postgres_conn.execute(\"SELECT count(*) FROM table_order\")\n",
    "postgres_conn.fetchall()"
   ]
  },
  {
   "cell_type": "code",
   "execution_count": 9,
   "id": "cea36e59",
   "metadata": {},
   "outputs": [
    {
     "data": {
      "text/plain": [
       "[(4577232,)]"
      ]
     },
     "execution_count": 9,
     "metadata": {},
     "output_type": "execute_result"
    }
   ],
   "source": [
    "postgres_conn.execute(\"SELECT count(*) FROM table_user\")\n",
    "postgres_conn.fetchall()"
   ]
  }
 ],
 "metadata": {
  "kernelspec": {
   "display_name": "Python 3 (ipykernel)",
   "language": "python",
   "name": "python3"
  },
  "language_info": {
   "codemirror_mode": {
    "name": "ipython",
    "version": 3
   },
   "file_extension": ".py",
   "mimetype": "text/x-python",
   "name": "python",
   "nbconvert_exporter": "python",
   "pygments_lexer": "ipython3",
   "version": "3.9.12"
  }
 },
 "nbformat": 4,
 "nbformat_minor": 5
}
