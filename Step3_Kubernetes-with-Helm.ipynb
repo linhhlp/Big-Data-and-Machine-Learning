{
 "cells": [
  {
   "attachments": {},
   "cell_type": "markdown",
   "id": "c902f566",
   "metadata": {},
   "source": [
    "# Kubernetes with Helm: Management Services for Containers\n",
    "\n",
    "In the previous post, we worked with Docker containers and used the Docker platform to deploy and manage containers. However, the Docker platform does not support advanced features or does not easily configure containers.\n",
    "\n",
    "For example, if we need to update a container with the newest version of the core software or auto-scale the clusters of containers. In this case, Helm works very well with Kubernetes to manage containers.\n",
    "\n",
    "**Explanation of terms:**\n",
    "\n",
    "* **Container**: Services are packaged into different containers that run on the same or different hosts, but have isolated environments and dependencies.\n",
    "* **Docker**: is a containerization platform that allows us to pack our applications into containers.\n",
    "* **Kubernetes (K8s)**: a container orchestration system that is for automating deployment, scaling, and management of containerized applications.\n",
    "* **Helm**: package manager for Kubernetes by using **Helm Chart**. "
   ]
  },
  {
   "attachments": {},
   "cell_type": "markdown",
   "id": "9924b50c",
   "metadata": {},
   "source": [
    "**Process of Deployment**\n",
    "\n",
    "1. Create/Build/Pull images for applications and services.\n",
    "\n",
    "2. Push the images to the registry of Kubernetes.\n",
    "\n",
    "3. Use Helm to create a new chart for each application and configure it accordingly.\n",
    "\n",
    "4. Run (helm install app-name chart-name) (an) application(s) for each image using Helm on the created charts.\n",
    "\n",
    "5. Stop (helm uninstall app-name) (a) running application(s)."
   ]
  },
  {
   "attachments": {},
   "cell_type": "markdown",
   "id": "570996d0",
   "metadata": {},
   "source": [
    "### Helm Chart\n",
    "\n",
    "The binary file of Helm could be found in https://github.com/helm/helm/releases\n",
    "\n",
    "1. Create a new chart\n",
    "\n",
    "```bash\n",
    "$ helm create my-app-chart\n",
    "```\n",
    "\n",
    "It will create a directory named my_app_chart. There are two yaml files inside: Chart.yaml and values.yaml\n",
    "\n",
    "\n",
    "2. Configure `values.yaml`\n",
    "\n",
    "Set the image of the container to be deployed.\n",
    "\n",
    "```\n",
    "image:\n",
    "  repository: IMAGE of the service application\n",
    "  tag: \"\" (empty string) or a version of the image. Could be latest\n",
    "```\n",
    "\n",
    "In Kubernetes, a Service provides an abstraction that defines access to a Pod. It sits in front of the Pod and delivers requests to the Pods behind it. The following are the types of Kubernetes Services: ClusterIP, NodePort, LoadBalancer, ExternalName. Read more here: https://www.harness.io/blog/kubernetes-services-explained\n",
    "\n",
    "```\n",
    "service:\n",
    "  type: LoadBalancer\n",
    "  port: 80\n",
    "  targetPort: 3000\n",
    "```\n",
    "* ClusterIP: Exposes the Service on a cluster-internal IP. Choosing this value makes the Service only reachable from within the cluster.\n",
    "\n",
    "* NodePort Exposes the Service on each Node’s IP at a static port and should be a number between 30000 to 32767. `kubectl get svc` to get the node's IP and port\n"
   ]
  },
  {
   "attachments": {},
   "cell_type": "markdown",
   "id": "d01be196",
   "metadata": {},
   "source": [
    "3. Configure `deployment.yaml`\n",
    "\n",
    "Change `containerPort` in spec > containers > ports\n",
    "```\n",
    "containerPort: {{ .Values.service.targetPort }}\n",
    "```\n",
    "4. Install \n",
    "\n",
    "We can deploy the same Chart with different running applications by choosing different names\n",
    "\n",
    "```helm install app-name chart-name```\n",
    "\n",
    "We can verify the configuration before installing\n",
    "\n",
    "```helm install --dry-run --debug app-name chart-name```\n",
    "\n",
    "```bash\n",
    "$ helm install my-app-0 my-app-chart\n",
    "$ kubectl get pods\n",
    "$ kubectl get service\n",
    "```\n",
    "\n",
    "We can view the status of the deployed applications using `kubectl get pods`"
   ]
  },
  {
   "attachments": {},
   "cell_type": "markdown",
   "id": "2e23eff6",
   "metadata": {},
   "source": [
    "5. Port-forwarding\n",
    "\n",
    "If the service:type is NodePort, then we need to forward the port used by the cluster.\n",
    "\n",
    "```bash\n",
    "$ kubectl port-forward svc/my-app --address 0.0.0.0 31111:31111\n",
    "```"
   ]
  },
  {
   "attachments": {},
   "cell_type": "markdown",
   "id": "ae8e0e58",
   "metadata": {},
   "source": [
    "## Setup Apache Spark\n",
    "\n",
    "There are prebuilt versions of Helm charts for common applications at https://github.com/bitnami/charts/\n",
    "\n",
    "To set up Apache Spark, we can use the image `bitnami/spark` which bundles a generic set of jar files, for example, Hadoop. We also can change to a specific version if needed.\n",
    "\n",
    "To run a cluster of Spark with Kubernetes, we install the downloaded chart with `helm`\n",
    "\n",
    "```bash\n",
    "$ helm install spark-0 charts/spark\n",
    "```\n",
    "\n",
    "Before installing, we might want to build the dependencies:\n",
    "\n",
    "```bash\n",
    "$ helm dependency build charts/spark\n",
    "```\n",
    "\n",
    "There are several parameters to configure in the `values.yaml` file:\n",
    "\n",
    "service: type: LoadBalancer"
   ]
  },
  {
   "attachments": {},
   "cell_type": "markdown",
   "id": "eb61d759",
   "metadata": {},
   "source": [
    "```\n",
    "$ kubectl get svc\n",
    "NAME                        TYPE           CLUSTER-IP       EXTERNAL-IP   PORT(S)                          \n",
    "cass-0-cassandra            LoadBalancer   10.99.114.143    localhost     9042:32407/TCP,8080:30677/TCP     \n",
    "cass-0-cassandra-headless   ClusterIP      None             <none>        7000/TCP,7001/TCP,7199/TCP,9042/TCP\n",
    "kubernetes                  ClusterIP      10.96.0.1        <none>        443/TCP                       \n",
    "spark-0-headless            ClusterIP      None             <none>        <none>                      \n",
    "spark-0-master-svc          LoadBalancer   10.105.180.160   localhost     7077:32636/TCP,80:30734/TCP   \n",
    "```"
   ]
  },
  {
   "attachments": {},
   "cell_type": "markdown",
   "id": "712bba48",
   "metadata": {},
   "source": [
    "To run a test, we can use spark-submit to submit a test to the Spark server. This can also be done by using `kubectl run` command:\n",
    "\n",
    "```bash\n",
    "$ kubectl run --namespace default spark-0-client --rm --tty -i --restart='Never' \\\n",
    "    --image docker.io/bitnami/spark:3.3.2-debian-11-r13    \\\n",
    "    -- spark-submit --master spark://localhost:7077  \\\n",
    "    --deploy-mode cluster   \\\n",
    "    --class org.apache.spark.examples.SparkPi   \\\n",
    "    examples/jars/spark-examples_2.12-3.3.2.jar 1000\n",
    "```"
   ]
  },
  {
   "cell_type": "code",
   "execution_count": null,
   "id": "1d946e5d",
   "metadata": {
    "vscode": {
     "languageId": "plaintext"
    }
   },
   "outputs": [],
   "source": []
  }
 ],
 "metadata": {
  "kernelspec": {
   "display_name": "Python 3 (ipykernel)",
   "language": "python",
   "name": "python3"
  },
  "language_info": {
   "codemirror_mode": {
    "name": "ipython",
    "version": 3
   },
   "file_extension": ".py",
   "mimetype": "text/x-python",
   "name": "python",
   "nbconvert_exporter": "python",
   "pygments_lexer": "ipython3",
   "version": "3.9.12"
  }
 },
 "nbformat": 4,
 "nbformat_minor": 5
}
